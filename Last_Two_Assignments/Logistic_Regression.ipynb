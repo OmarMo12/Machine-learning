{
  "nbformat": 4,
  "nbformat_minor": 0,
  "metadata": {
    "colab": {
      "name": "Logistic Regression.ipynb",
      "provenance": [],
      "collapsed_sections": []
    },
    "kernelspec": {
      "name": "python3",
      "display_name": "Python 3"
    },
    "language_info": {
      "name": "python"
    }
  },
  "cells": [
    {
      "cell_type": "code",
      "execution_count": 2,
      "metadata": {
        "id": "uSx_0FJwjXll"
      },
      "outputs": [],
      "source": [
        "import warnings\n",
        "warnings.filterwarnings('ignore')\n",
        "import seaborn as sns \n",
        "import matplotlib.pyplot as plt\n",
        "import pandas as pd\n",
        "import numpy as np\n",
        "from plotnine import *   \n",
        "from sklearn.preprocessing import StandardScaler\n",
        "scaler = StandardScaler()\n",
        "from sklearn.metrics import mean_squared_error\n",
        "from sklearn.model_selection import train_test_split\n",
        "from sklearn.linear_model import Lasso\n",
        "from sklearn.linear_model import LinearRegression \n",
        "from sklearn.linear_model import LogisticRegression\n",
        "from sklearn.preprocessing import PolynomialFeatures\n",
        "from sklearn.preprocessing import OrdinalEncoder\n",
        "from sklearn.model_selection import StratifiedKFold\n",
        "from statistics import mean, stdev\n",
        "from sklearn.linear_model import LogisticRegressionCV "
      ]
    },
    {
      "cell_type": "code",
      "source": [
        "from pydrive.auth import GoogleAuth\n",
        "from pydrive.drive import GoogleDrive\n",
        "from google.colab import auth\n",
        "from oauth2client.client import GoogleCredentials\n",
        "\n",
        "# Authenticate and create the PyDrive client.\n",
        "auth.authenticate_user()\n",
        "gauth = GoogleAuth()\n",
        "gauth.credentials = GoogleCredentials.get_application_default()\n",
        "drive = GoogleDrive(gauth)"
      ],
      "metadata": {
        "id": "8NrvlzyckBAd"
      },
      "execution_count": 3,
      "outputs": []
    },
    {
      "cell_type": "code",
      "source": [
        "link = 'https://drive.google.com/file/d/1wVlHcBzHKAWJbYNVhPQJQW88aSkT6ic3/view?usp=sharing'\n",
        "id = link.split(\"/\")[-2]\n",
        " \n",
        "downloaded = drive.CreateFile({'id':id})\n",
        "downloaded.GetContentFile('PS_20174392719_1491204439457_log.csv') "
      ],
      "metadata": {
        "id": "UbhRIJP9jdCv"
      },
      "execution_count": 4,
      "outputs": []
    },
    {
      "cell_type": "code",
      "source": [
        "df = pd.read_csv ('PS_20174392719_1491204439457_log.csv')\n",
        "df.head()"
      ],
      "metadata": {
        "colab": {
          "base_uri": "https://localhost:8080/",
          "height": 270
        },
        "id": "A8B2uD_IkWMM",
        "outputId": "a915d457-e5d2-431f-f0ea-2983ceb8758e"
      },
      "execution_count": 11,
      "outputs": [
        {
          "output_type": "execute_result",
          "data": {
            "text/plain": [
              "   step      type    amount     nameOrig  oldbalanceOrg  newbalanceOrig  \\\n",
              "0     1   PAYMENT   9839.64  C1231006815       170136.0       160296.36   \n",
              "1     1   PAYMENT   1864.28  C1666544295        21249.0        19384.72   \n",
              "2     1  TRANSFER    181.00  C1305486145          181.0            0.00   \n",
              "3     1  CASH_OUT    181.00   C840083671          181.0            0.00   \n",
              "4     1   PAYMENT  11668.14  C2048537720        41554.0        29885.86   \n",
              "\n",
              "      nameDest  oldbalanceDest  newbalanceDest  isFraud  isFlaggedFraud  \n",
              "0  M1979787155             0.0             0.0        0               0  \n",
              "1  M2044282225             0.0             0.0        0               0  \n",
              "2   C553264065             0.0             0.0        1               0  \n",
              "3    C38997010         21182.0             0.0        1               0  \n",
              "4  M1230701703             0.0             0.0        0               0  "
            ],
            "text/html": [
              "\n",
              "  <div id=\"df-39e76081-6dc4-4c81-bed6-7cb4fb32279a\">\n",
              "    <div class=\"colab-df-container\">\n",
              "      <div>\n",
              "<style scoped>\n",
              "    .dataframe tbody tr th:only-of-type {\n",
              "        vertical-align: middle;\n",
              "    }\n",
              "\n",
              "    .dataframe tbody tr th {\n",
              "        vertical-align: top;\n",
              "    }\n",
              "\n",
              "    .dataframe thead th {\n",
              "        text-align: right;\n",
              "    }\n",
              "</style>\n",
              "<table border=\"1\" class=\"dataframe\">\n",
              "  <thead>\n",
              "    <tr style=\"text-align: right;\">\n",
              "      <th></th>\n",
              "      <th>step</th>\n",
              "      <th>type</th>\n",
              "      <th>amount</th>\n",
              "      <th>nameOrig</th>\n",
              "      <th>oldbalanceOrg</th>\n",
              "      <th>newbalanceOrig</th>\n",
              "      <th>nameDest</th>\n",
              "      <th>oldbalanceDest</th>\n",
              "      <th>newbalanceDest</th>\n",
              "      <th>isFraud</th>\n",
              "      <th>isFlaggedFraud</th>\n",
              "    </tr>\n",
              "  </thead>\n",
              "  <tbody>\n",
              "    <tr>\n",
              "      <th>0</th>\n",
              "      <td>1</td>\n",
              "      <td>PAYMENT</td>\n",
              "      <td>9839.64</td>\n",
              "      <td>C1231006815</td>\n",
              "      <td>170136.0</td>\n",
              "      <td>160296.36</td>\n",
              "      <td>M1979787155</td>\n",
              "      <td>0.0</td>\n",
              "      <td>0.0</td>\n",
              "      <td>0</td>\n",
              "      <td>0</td>\n",
              "    </tr>\n",
              "    <tr>\n",
              "      <th>1</th>\n",
              "      <td>1</td>\n",
              "      <td>PAYMENT</td>\n",
              "      <td>1864.28</td>\n",
              "      <td>C1666544295</td>\n",
              "      <td>21249.0</td>\n",
              "      <td>19384.72</td>\n",
              "      <td>M2044282225</td>\n",
              "      <td>0.0</td>\n",
              "      <td>0.0</td>\n",
              "      <td>0</td>\n",
              "      <td>0</td>\n",
              "    </tr>\n",
              "    <tr>\n",
              "      <th>2</th>\n",
              "      <td>1</td>\n",
              "      <td>TRANSFER</td>\n",
              "      <td>181.00</td>\n",
              "      <td>C1305486145</td>\n",
              "      <td>181.0</td>\n",
              "      <td>0.00</td>\n",
              "      <td>C553264065</td>\n",
              "      <td>0.0</td>\n",
              "      <td>0.0</td>\n",
              "      <td>1</td>\n",
              "      <td>0</td>\n",
              "    </tr>\n",
              "    <tr>\n",
              "      <th>3</th>\n",
              "      <td>1</td>\n",
              "      <td>CASH_OUT</td>\n",
              "      <td>181.00</td>\n",
              "      <td>C840083671</td>\n",
              "      <td>181.0</td>\n",
              "      <td>0.00</td>\n",
              "      <td>C38997010</td>\n",
              "      <td>21182.0</td>\n",
              "      <td>0.0</td>\n",
              "      <td>1</td>\n",
              "      <td>0</td>\n",
              "    </tr>\n",
              "    <tr>\n",
              "      <th>4</th>\n",
              "      <td>1</td>\n",
              "      <td>PAYMENT</td>\n",
              "      <td>11668.14</td>\n",
              "      <td>C2048537720</td>\n",
              "      <td>41554.0</td>\n",
              "      <td>29885.86</td>\n",
              "      <td>M1230701703</td>\n",
              "      <td>0.0</td>\n",
              "      <td>0.0</td>\n",
              "      <td>0</td>\n",
              "      <td>0</td>\n",
              "    </tr>\n",
              "  </tbody>\n",
              "</table>\n",
              "</div>\n",
              "      <button class=\"colab-df-convert\" onclick=\"convertToInteractive('df-39e76081-6dc4-4c81-bed6-7cb4fb32279a')\"\n",
              "              title=\"Convert this dataframe to an interactive table.\"\n",
              "              style=\"display:none;\">\n",
              "        \n",
              "  <svg xmlns=\"http://www.w3.org/2000/svg\" height=\"24px\"viewBox=\"0 0 24 24\"\n",
              "       width=\"24px\">\n",
              "    <path d=\"M0 0h24v24H0V0z\" fill=\"none\"/>\n",
              "    <path d=\"M18.56 5.44l.94 2.06.94-2.06 2.06-.94-2.06-.94-.94-2.06-.94 2.06-2.06.94zm-11 1L8.5 8.5l.94-2.06 2.06-.94-2.06-.94L8.5 2.5l-.94 2.06-2.06.94zm10 10l.94 2.06.94-2.06 2.06-.94-2.06-.94-.94-2.06-.94 2.06-2.06.94z\"/><path d=\"M17.41 7.96l-1.37-1.37c-.4-.4-.92-.59-1.43-.59-.52 0-1.04.2-1.43.59L10.3 9.45l-7.72 7.72c-.78.78-.78 2.05 0 2.83L4 21.41c.39.39.9.59 1.41.59.51 0 1.02-.2 1.41-.59l7.78-7.78 2.81-2.81c.8-.78.8-2.07 0-2.86zM5.41 20L4 18.59l7.72-7.72 1.47 1.35L5.41 20z\"/>\n",
              "  </svg>\n",
              "      </button>\n",
              "      \n",
              "  <style>\n",
              "    .colab-df-container {\n",
              "      display:flex;\n",
              "      flex-wrap:wrap;\n",
              "      gap: 12px;\n",
              "    }\n",
              "\n",
              "    .colab-df-convert {\n",
              "      background-color: #E8F0FE;\n",
              "      border: none;\n",
              "      border-radius: 50%;\n",
              "      cursor: pointer;\n",
              "      display: none;\n",
              "      fill: #1967D2;\n",
              "      height: 32px;\n",
              "      padding: 0 0 0 0;\n",
              "      width: 32px;\n",
              "    }\n",
              "\n",
              "    .colab-df-convert:hover {\n",
              "      background-color: #E2EBFA;\n",
              "      box-shadow: 0px 1px 2px rgba(60, 64, 67, 0.3), 0px 1px 3px 1px rgba(60, 64, 67, 0.15);\n",
              "      fill: #174EA6;\n",
              "    }\n",
              "\n",
              "    [theme=dark] .colab-df-convert {\n",
              "      background-color: #3B4455;\n",
              "      fill: #D2E3FC;\n",
              "    }\n",
              "\n",
              "    [theme=dark] .colab-df-convert:hover {\n",
              "      background-color: #434B5C;\n",
              "      box-shadow: 0px 1px 3px 1px rgba(0, 0, 0, 0.15);\n",
              "      filter: drop-shadow(0px 1px 2px rgba(0, 0, 0, 0.3));\n",
              "      fill: #FFFFFF;\n",
              "    }\n",
              "  </style>\n",
              "\n",
              "      <script>\n",
              "        const buttonEl =\n",
              "          document.querySelector('#df-39e76081-6dc4-4c81-bed6-7cb4fb32279a button.colab-df-convert');\n",
              "        buttonEl.style.display =\n",
              "          google.colab.kernel.accessAllowed ? 'block' : 'none';\n",
              "\n",
              "        async function convertToInteractive(key) {\n",
              "          const element = document.querySelector('#df-39e76081-6dc4-4c81-bed6-7cb4fb32279a');\n",
              "          const dataTable =\n",
              "            await google.colab.kernel.invokeFunction('convertToInteractive',\n",
              "                                                     [key], {});\n",
              "          if (!dataTable) return;\n",
              "\n",
              "          const docLinkHtml = 'Like what you see? Visit the ' +\n",
              "            '<a target=\"_blank\" href=https://colab.research.google.com/notebooks/data_table.ipynb>data table notebook</a>'\n",
              "            + ' to learn more about interactive tables.';\n",
              "          element.innerHTML = '';\n",
              "          dataTable['output_type'] = 'display_data';\n",
              "          await google.colab.output.renderOutput(dataTable, element);\n",
              "          const docLink = document.createElement('div');\n",
              "          docLink.innerHTML = docLinkHtml;\n",
              "          element.appendChild(docLink);\n",
              "        }\n",
              "      </script>\n",
              "    </div>\n",
              "  </div>\n",
              "  "
            ]
          },
          "metadata": {},
          "execution_count": 11
        }
      ]
    },
    {
      "cell_type": "code",
      "source": [
        "df = pd.read_csv ('PS_20174392719_1491204439457_log.csv')"
      ],
      "metadata": {
        "id": "15HF2S3dsTtb"
      },
      "execution_count": 6,
      "outputs": []
    },
    {
      "cell_type": "code",
      "source": [
        "df.drop('nameOrig',axis=1,inplace=True)   #removing column with indefined format\n",
        "df.drop('nameDest',axis=1,inplace=True)   #removing column with indefined format\n",
        "X=df.drop('isFraud',axis=1)\n",
        "Y=df['isFraud']\n",
        "enc = OrdinalEncoder()\n",
        "X[\"type\"] = enc.fit_transform(X[[\"type\"]])  #transforming the \"type column from string to integers\""
      ],
      "metadata": {
        "id": "_uzRHBvnkdDb"
      },
      "execution_count": 7,
      "outputs": []
    },
    {
      "cell_type": "markdown",
      "source": [
        "### Divide dataset after importing into Train/Cross Validation/Test & Testing various hypothesis with different degrees"
      ],
      "metadata": {
        "id": "8y9V7tG9wtb8"
      }
    },
    {
      "cell_type": "code",
      "source": [
        "rmse_array = []\n",
        "for i in range (1,3,1):\n",
        "    features = PolynomialFeatures(degree=i, include_bias=False) #Generate feature matrix consisting of all polynomial combinations\n",
        "    X_poly = features.fit_transform(X)\n",
        "    X_train, X_test, Y_train, Y_test = train_test_split(X_poly, Y, test_size = 0.3, random_state=5)\n",
        "    X_valid, X_test, Y_valid, Y_test = train_test_split(X_test, Y_test, test_size = 0.5, random_state=5)\n",
        "    reg_model = LogisticRegression()\n",
        "    reg_model.fit(X_train, Y_train)\n",
        "    prediction = reg_model.predict(X_valid)\n",
        "    rmse = np.sqrt(mean_squared_error(Y_valid, prediction))\n",
        "    rmse_array.append(rmse)\n",
        "print(rmse_array)"
      ],
      "metadata": {
        "colab": {
          "base_uri": "https://localhost:8080/"
        },
        "id": "MYmz3UjDkqGE",
        "outputId": "328a9019-6c10-430c-913f-3e77a9dda870"
      },
      "execution_count": 8,
      "outputs": [
        {
          "output_type": "stream",
          "name": "stdout",
          "text": [
            "[0.03133330259081958, 0.03614677901848205]\n"
          ]
        }
      ]
    },
    {
      "cell_type": "code",
      "source": [
        "features = PolynomialFeatures(degree=1, include_bias=False) #Generate feature matrix consisting of all polynomial combinations\n",
        "X_poly = features.fit_transform(X)\n",
        "X_train, X_test, Y_train, Y_test = train_test_split(X_poly, Y, test_size = 0.3, random_state=5)\n",
        "X_valid, X_test, Y_valid, Y_test = train_test_split(X_test, Y_test, test_size = 0.5, random_state=5)\n",
        "reg_model = LogisticRegression()\n",
        "reg_model.fit(X_train, Y_train)\n",
        "prediction = reg_model.predict(X_test)\n",
        "print(np.sqrt(mean_squared_error(Y_test, prediction)))"
      ],
      "metadata": {
        "colab": {
          "base_uri": "https://localhost:8080/"
        },
        "id": "72fQ7JH9nBmp",
        "outputId": "772ca89e-dfc3-4465-d4ac-46df4fe7cd72"
      },
      "execution_count": 11,
      "outputs": [
        {
          "output_type": "stream",
          "name": "stdout",
          "text": [
            "0.03103088294190997\n"
          ]
        }
      ]
    },
    {
      "cell_type": "markdown",
      "source": [
        "### Applying K-Fold & Stratified Sampling"
      ],
      "metadata": {
        "id": "-a0sks_Vw2HD"
      }
    },
    {
      "cell_type": "code",
      "source": [
        "samp_kfold = StratifiedKFold(n_splits=5, shuffle=True, random_state=1)\n",
        "accuracy = []\n",
        "  \n",
        "for train_idx, test_idx in samp_kfold.split(X_poly, Y):\n",
        "    x_train_fold, x_test_fold = X_poly[train_idx], X_poly[test_idx]\n",
        "    y_train_fold, y_test_fold = Y[train_idx], Y[test_idx]\n",
        "    reg_model = LogisticRegression()\n",
        "    reg_model.fit(x_train_fold, y_train_fold)\n",
        "    accuracy.append(reg_model.score(x_test_fold, y_test_fold))\n",
        "  \n",
        "# Print the output.\n",
        "print(accuracy, '\\n')\n",
        "print('Maximum Accuracy = ', max(accuracy)*100, '%', '\\n')\n",
        "print('Minimum Accuracy = ', min(accuracy)*100, '%', '\\n')\n",
        "print('Average Accuracy = ', mean(accuracy)*100, '%', '\\n')\n",
        "print('Standard Deviation = ', stdev(accuracy))"
      ],
      "metadata": {
        "colab": {
          "base_uri": "https://localhost:8080/"
        },
        "id": "N8YyaTJhnU2X",
        "outputId": "ea32475b-e406-4bdc-a8fe-baf389ae87b8"
      },
      "execution_count": 13,
      "outputs": [
        {
          "output_type": "stream",
          "name": "stdout",
          "text": [
            "[0.9982876550854837, 0.998242862217137, 0.9982680090905948, 0.9983253753956703, 0.998249934775297] \n",
            "\n",
            "Maximum Accuracy =  99.83253753956703 % \n",
            "\n",
            "Minimum Accuracy =  99.82428622171369 % \n",
            "\n",
            "Average Accuracy =  99.82747673128365 % \n",
            "\n",
            "Standard Deviation =  3.319463944689407e-05\n"
          ]
        }
      ]
    },
    {
      "cell_type": "markdown",
      "source": [
        "### Applying Regularization"
      ],
      "metadata": {
        "id": "sdU_5t9mw84M"
      }
    },
    {
      "cell_type": "code",
      "source": [
        "parameter = [1,0.1,0.001,0.0001]\n",
        "X=df.drop('isFraud',axis=1)\n",
        "Y=df['isFraud']\n",
        "enc = OrdinalEncoder()\n",
        "X[\"type\"] = enc.fit_transform(X[[\"type\"]])  #transforming the \"type column from string to integers\"\n",
        "features = PolynomialFeatures(degree=1, include_bias=False) #Generate feature matrix consisting of all polynomial combinations\n",
        "X_poly = features.fit_transform(X)\n",
        "X_train, X_test, Y_train, Y_test = train_test_split(X_poly, Y, test_size = 0.3, random_state=5)\n",
        "X_valid, X_test, Y_valid, Y_test = train_test_split(X_test, Y_test, test_size = 0.5, random_state=5)\n",
        "reg_model = LogisticRegression(penalty='l1', C=1 ,solver='saga', max_iter=2)\n",
        "reg_model.fit(X_train, Y_train)\n",
        "prediction = reg_model.predict(X_test)\n",
        "print(np.sqrt(mean_squared_error(Y_test, prediction)))"
      ],
      "metadata": {
        "colab": {
          "base_uri": "https://localhost:8080/"
        },
        "id": "41ri-UOvvpMy",
        "outputId": "8398516e-14dc-4203-f5b5-6528ee5d19eb"
      },
      "execution_count": 15,
      "outputs": [
        {
          "output_type": "stream",
          "name": "stdout",
          "text": [
            "0.0366076330568006\n"
          ]
        }
      ]
    }
  ]
}